{
 "cells": [
  {
   "cell_type": "markdown",
   "id": "1d01ec22",
   "metadata": {},
   "source": [
    "# Elaborato Data Intensive\n",
    "\n",
    "Questo elaborato è basato su una competizione di kaggle [visualizzabile qui](https://www.kaggle.com/competitions/playground-series-s5e4/data?select=test.csv) \\\n",
    "Tutti i dataset sia train che test sono entrambi disponibili al link della competizione. \n",
    "\n",
    "## Istruzioni per il download del dataset\n",
    "il Dataset va inserito all'interno della cartella /dataset. \n",
    "Il dataset è composto di 2 file test.csv e train.csv i rispettivi dataset di test e train.\n",
    "Per procedere al download del dataset è necessario possedere un account Kaggle, generare un API key dalle impostazioni di kaggle e configurare il pacchetto python kaggle per il corretto funzionamento in locale.\n",
    "Una volta configurato kaggle correttamente sarà sufficiente eseguire i seguente comandi all'interno della cartella `/dataset`: \\\n",
    "`kaggle competitions download -c playground-series-s5e4` e `unzip playground-series-s5e4.zip`"
   ]
  }
 ],
 "metadata": {
  "language_info": {
   "name": "python"
  }
 },
 "nbformat": 4,
 "nbformat_minor": 5
}
